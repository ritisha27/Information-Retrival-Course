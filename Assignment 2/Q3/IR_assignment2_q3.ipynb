{
  "cells": [
    {
      "cell_type": "markdown",
      "metadata": {
        "id": "5A4vSdUWwUjc"
      },
      "source": [
        "# **MAIN CODE BASE**"
      ]
    },
    {
      "cell_type": "code",
      "execution_count": 2,
      "metadata": {
        "id": "jGCoBiW9wX7h"
      },
      "outputs": [],
      "source": [
        "from collections import Counter\n",
        "import pandas as pd\n",
        "import math"
      ]
    },
    {
      "cell_type": "code",
      "execution_count": 2,
      "metadata": {
        "id": "QpHwIWfowahk"
      },
      "outputs": [],
      "source": [
        "data = pd.read_csv(\"/content/drive/MyDrive/IR-assignment-2-data (2).txt\", sep=\" \", header=None)\n",
        "data.drop(columns=[138], axis=1, inplace=True)\n",
        "data.columns = [\"relevance_score\", \"qid\"] + [f\"feature_{i}\" for i in range(1, 137)]"
      ]
    },
    {
      "cell_type": "code",
      "execution_count": 3,
      "metadata": {
        "colab": {
          "base_uri": "https://localhost:8080/",
          "height": 300
        },
        "id": "0mqNSdTBwclM",
        "outputId": "95aa692c-e667-44b2-f44c-2b7463cfa106"
      },
      "outputs": [
        {
          "data": {
            "text/html": [
              "\n",
              "  <div id=\"df-a46088f4-f1dc-4a57-8a6a-bd4514695b4a\">\n",
              "    <div class=\"colab-df-container\">\n",
              "      <div>\n",
              "<style scoped>\n",
              "    .dataframe tbody tr th:only-of-type {\n",
              "        vertical-align: middle;\n",
              "    }\n",
              "\n",
              "    .dataframe tbody tr th {\n",
              "        vertical-align: top;\n",
              "    }\n",
              "\n",
              "    .dataframe thead th {\n",
              "        text-align: right;\n",
              "    }\n",
              "</style>\n",
              "<table border=\"1\" class=\"dataframe\">\n",
              "  <thead>\n",
              "    <tr style=\"text-align: right;\">\n",
              "      <th></th>\n",
              "      <th>relevance_score</th>\n",
              "      <th>qid</th>\n",
              "      <th>feature_1</th>\n",
              "      <th>feature_2</th>\n",
              "      <th>feature_3</th>\n",
              "      <th>feature_4</th>\n",
              "      <th>feature_5</th>\n",
              "      <th>feature_6</th>\n",
              "      <th>feature_7</th>\n",
              "      <th>feature_8</th>\n",
              "      <th>...</th>\n",
              "      <th>feature_127</th>\n",
              "      <th>feature_128</th>\n",
              "      <th>feature_129</th>\n",
              "      <th>feature_130</th>\n",
              "      <th>feature_131</th>\n",
              "      <th>feature_132</th>\n",
              "      <th>feature_133</th>\n",
              "      <th>feature_134</th>\n",
              "      <th>feature_135</th>\n",
              "      <th>feature_136</th>\n",
              "    </tr>\n",
              "  </thead>\n",
              "  <tbody>\n",
              "    <tr>\n",
              "      <th>0</th>\n",
              "      <td>0</td>\n",
              "      <td>qid:4</td>\n",
              "      <td>1:3</td>\n",
              "      <td>2:0</td>\n",
              "      <td>3:2</td>\n",
              "      <td>4:0</td>\n",
              "      <td>5:3</td>\n",
              "      <td>6:1</td>\n",
              "      <td>7:0</td>\n",
              "      <td>8:0.666667</td>\n",
              "      <td>...</td>\n",
              "      <td>127:27</td>\n",
              "      <td>128:2</td>\n",
              "      <td>129:9</td>\n",
              "      <td>130:124</td>\n",
              "      <td>131:4678</td>\n",
              "      <td>132:54</td>\n",
              "      <td>133:74</td>\n",
              "      <td>134:0</td>\n",
              "      <td>135:0</td>\n",
              "      <td>136:0</td>\n",
              "    </tr>\n",
              "    <tr>\n",
              "      <th>1</th>\n",
              "      <td>0</td>\n",
              "      <td>qid:4</td>\n",
              "      <td>1:3</td>\n",
              "      <td>2:0</td>\n",
              "      <td>3:3</td>\n",
              "      <td>4:0</td>\n",
              "      <td>5:3</td>\n",
              "      <td>6:1</td>\n",
              "      <td>7:0</td>\n",
              "      <td>8:1</td>\n",
              "      <td>...</td>\n",
              "      <td>127:61</td>\n",
              "      <td>128:0</td>\n",
              "      <td>129:8</td>\n",
              "      <td>130:122</td>\n",
              "      <td>131:508</td>\n",
              "      <td>132:131</td>\n",
              "      <td>133:136</td>\n",
              "      <td>134:0</td>\n",
              "      <td>135:0</td>\n",
              "      <td>136:0</td>\n",
              "    </tr>\n",
              "    <tr>\n",
              "      <th>2</th>\n",
              "      <td>0</td>\n",
              "      <td>qid:4</td>\n",
              "      <td>1:3</td>\n",
              "      <td>2:0</td>\n",
              "      <td>3:2</td>\n",
              "      <td>4:0</td>\n",
              "      <td>5:3</td>\n",
              "      <td>6:1</td>\n",
              "      <td>7:0</td>\n",
              "      <td>8:0.666667</td>\n",
              "      <td>...</td>\n",
              "      <td>127:31</td>\n",
              "      <td>128:2</td>\n",
              "      <td>129:8</td>\n",
              "      <td>130:115</td>\n",
              "      <td>131:508</td>\n",
              "      <td>132:51</td>\n",
              "      <td>133:70</td>\n",
              "      <td>134:0</td>\n",
              "      <td>135:0</td>\n",
              "      <td>136:0</td>\n",
              "    </tr>\n",
              "    <tr>\n",
              "      <th>3</th>\n",
              "      <td>0</td>\n",
              "      <td>qid:4</td>\n",
              "      <td>1:3</td>\n",
              "      <td>2:0</td>\n",
              "      <td>3:3</td>\n",
              "      <td>4:0</td>\n",
              "      <td>5:3</td>\n",
              "      <td>6:1</td>\n",
              "      <td>7:0</td>\n",
              "      <td>8:1</td>\n",
              "      <td>...</td>\n",
              "      <td>127:32</td>\n",
              "      <td>128:82</td>\n",
              "      <td>129:17</td>\n",
              "      <td>130:122</td>\n",
              "      <td>131:508</td>\n",
              "      <td>132:83</td>\n",
              "      <td>133:107</td>\n",
              "      <td>134:0</td>\n",
              "      <td>135:10</td>\n",
              "      <td>136:13.35</td>\n",
              "    </tr>\n",
              "    <tr>\n",
              "      <th>4</th>\n",
              "      <td>1</td>\n",
              "      <td>qid:4</td>\n",
              "      <td>1:3</td>\n",
              "      <td>2:0</td>\n",
              "      <td>3:3</td>\n",
              "      <td>4:0</td>\n",
              "      <td>5:3</td>\n",
              "      <td>6:1</td>\n",
              "      <td>7:0</td>\n",
              "      <td>8:1</td>\n",
              "      <td>...</td>\n",
              "      <td>127:29</td>\n",
              "      <td>128:11</td>\n",
              "      <td>129:8</td>\n",
              "      <td>130:121</td>\n",
              "      <td>131:508</td>\n",
              "      <td>132:103</td>\n",
              "      <td>133:120</td>\n",
              "      <td>134:0</td>\n",
              "      <td>135:0</td>\n",
              "      <td>136:0</td>\n",
              "    </tr>\n",
              "  </tbody>\n",
              "</table>\n",
              "<p>5 rows × 138 columns</p>\n",
              "</div>\n",
              "      <button class=\"colab-df-convert\" onclick=\"convertToInteractive('df-a46088f4-f1dc-4a57-8a6a-bd4514695b4a')\"\n",
              "              title=\"Convert this dataframe to an interactive table.\"\n",
              "              style=\"display:none;\">\n",
              "        \n",
              "  <svg xmlns=\"http://www.w3.org/2000/svg\" height=\"24px\"viewBox=\"0 0 24 24\"\n",
              "       width=\"24px\">\n",
              "    <path d=\"M0 0h24v24H0V0z\" fill=\"none\"/>\n",
              "    <path d=\"M18.56 5.44l.94 2.06.94-2.06 2.06-.94-2.06-.94-.94-2.06-.94 2.06-2.06.94zm-11 1L8.5 8.5l.94-2.06 2.06-.94-2.06-.94L8.5 2.5l-.94 2.06-2.06.94zm10 10l.94 2.06.94-2.06 2.06-.94-2.06-.94-.94-2.06-.94 2.06-2.06.94z\"/><path d=\"M17.41 7.96l-1.37-1.37c-.4-.4-.92-.59-1.43-.59-.52 0-1.04.2-1.43.59L10.3 9.45l-7.72 7.72c-.78.78-.78 2.05 0 2.83L4 21.41c.39.39.9.59 1.41.59.51 0 1.02-.2 1.41-.59l7.78-7.78 2.81-2.81c.8-.78.8-2.07 0-2.86zM5.41 20L4 18.59l7.72-7.72 1.47 1.35L5.41 20z\"/>\n",
              "  </svg>\n",
              "      </button>\n",
              "      \n",
              "  <style>\n",
              "    .colab-df-container {\n",
              "      display:flex;\n",
              "      flex-wrap:wrap;\n",
              "      gap: 12px;\n",
              "    }\n",
              "\n",
              "    .colab-df-convert {\n",
              "      background-color: #E8F0FE;\n",
              "      border: none;\n",
              "      border-radius: 50%;\n",
              "      cursor: pointer;\n",
              "      display: none;\n",
              "      fill: #1967D2;\n",
              "      height: 32px;\n",
              "      padding: 0 0 0 0;\n",
              "      width: 32px;\n",
              "    }\n",
              "\n",
              "    .colab-df-convert:hover {\n",
              "      background-color: #E2EBFA;\n",
              "      box-shadow: 0px 1px 2px rgba(60, 64, 67, 0.3), 0px 1px 3px 1px rgba(60, 64, 67, 0.15);\n",
              "      fill: #174EA6;\n",
              "    }\n",
              "\n",
              "    [theme=dark] .colab-df-convert {\n",
              "      background-color: #3B4455;\n",
              "      fill: #D2E3FC;\n",
              "    }\n",
              "\n",
              "    [theme=dark] .colab-df-convert:hover {\n",
              "      background-color: #434B5C;\n",
              "      box-shadow: 0px 1px 3px 1px rgba(0, 0, 0, 0.15);\n",
              "      filter: drop-shadow(0px 1px 2px rgba(0, 0, 0, 0.3));\n",
              "      fill: #FFFFFF;\n",
              "    }\n",
              "  </style>\n",
              "\n",
              "      <script>\n",
              "        const buttonEl =\n",
              "          document.querySelector('#df-a46088f4-f1dc-4a57-8a6a-bd4514695b4a button.colab-df-convert');\n",
              "        buttonEl.style.display =\n",
              "          google.colab.kernel.accessAllowed ? 'block' : 'none';\n",
              "\n",
              "        async function convertToInteractive(key) {\n",
              "          const element = document.querySelector('#df-a46088f4-f1dc-4a57-8a6a-bd4514695b4a');\n",
              "          const dataTable =\n",
              "            await google.colab.kernel.invokeFunction('convertToInteractive',\n",
              "                                                     [key], {});\n",
              "          if (!dataTable) return;\n",
              "\n",
              "          const docLinkHtml = 'Like what you see? Visit the ' +\n",
              "            '<a target=\"_blank\" href=https://colab.research.google.com/notebooks/data_table.ipynb>data table notebook</a>'\n",
              "            + ' to learn more about interactive tables.';\n",
              "          element.innerHTML = '';\n",
              "          dataTable['output_type'] = 'display_data';\n",
              "          await google.colab.output.renderOutput(dataTable, element);\n",
              "          const docLink = document.createElement('div');\n",
              "          docLink.innerHTML = docLinkHtml;\n",
              "          element.appendChild(docLink);\n",
              "        }\n",
              "      </script>\n",
              "    </div>\n",
              "  </div>\n",
              "  "
            ],
            "text/plain": [
              "   relevance_score    qid feature_1 feature_2 feature_3 feature_4 feature_5  \\\n",
              "0                0  qid:4       1:3       2:0       3:2       4:0       5:3   \n",
              "1                0  qid:4       1:3       2:0       3:3       4:0       5:3   \n",
              "2                0  qid:4       1:3       2:0       3:2       4:0       5:3   \n",
              "3                0  qid:4       1:3       2:0       3:3       4:0       5:3   \n",
              "4                1  qid:4       1:3       2:0       3:3       4:0       5:3   \n",
              "\n",
              "  feature_6 feature_7   feature_8  ... feature_127 feature_128 feature_129  \\\n",
              "0       6:1       7:0  8:0.666667  ...      127:27       128:2       129:9   \n",
              "1       6:1       7:0         8:1  ...      127:61       128:0       129:8   \n",
              "2       6:1       7:0  8:0.666667  ...      127:31       128:2       129:8   \n",
              "3       6:1       7:0         8:1  ...      127:32      128:82      129:17   \n",
              "4       6:1       7:0         8:1  ...      127:29      128:11       129:8   \n",
              "\n",
              "  feature_130 feature_131 feature_132 feature_133 feature_134 feature_135  \\\n",
              "0     130:124    131:4678      132:54      133:74       134:0       135:0   \n",
              "1     130:122     131:508     132:131     133:136       134:0       135:0   \n",
              "2     130:115     131:508      132:51      133:70       134:0       135:0   \n",
              "3     130:122     131:508      132:83     133:107       134:0      135:10   \n",
              "4     130:121     131:508     132:103     133:120       134:0       135:0   \n",
              "\n",
              "  feature_136  \n",
              "0       136:0  \n",
              "1       136:0  \n",
              "2       136:0  \n",
              "3   136:13.35  \n",
              "4       136:0  \n",
              "\n",
              "[5 rows x 138 columns]"
            ]
          },
          "execution_count": 3,
          "metadata": {},
          "output_type": "execute_result"
        }
      ],
      "source": [
        "data.head()"
      ]
    },
    {
      "cell_type": "code",
      "execution_count": 4,
      "metadata": {
        "colab": {
          "base_uri": "https://localhost:8080/"
        },
        "id": "4q-j7MmFw__4",
        "outputId": "3074201d-b000-4004-f8db-2a066be5a946"
      },
      "outputs": [
        {
          "data": {
            "text/plain": [
              "(239093, 138)"
            ]
          },
          "execution_count": 4,
          "metadata": {},
          "output_type": "execute_result"
        }
      ],
      "source": [
        "data.shape"
      ]
    },
    {
      "cell_type": "code",
      "execution_count": 5,
      "metadata": {
        "colab": {
          "base_uri": "https://localhost:8080/"
        },
        "id": "sKRt0HbCwh4E",
        "outputId": "daae00c8-3c84-4ce2-aa8a-1422df73485b"
      },
      "outputs": [
        {
          "data": {
            "text/plain": [
              "(103, 138)"
            ]
          },
          "execution_count": 5,
          "metadata": {},
          "output_type": "execute_result"
        }
      ],
      "source": [
        "# getting only the query-url pairs having qid:4\n",
        "data = data[data['qid'] == 'qid:4']\n",
        "data.shape"
      ]
    },
    {
      "cell_type": "markdown",
      "metadata": {
        "id": "qXSqOSOAxTU3"
      },
      "source": [
        "from this, we can see that, we have 103 query-url pairs having qid = 4."
      ]
    },
    {
      "cell_type": "code",
      "execution_count": 6,
      "metadata": {
        "colab": {
          "base_uri": "https://localhost:8080/",
          "height": 300
        },
        "id": "oVoRTs7Kw_kd",
        "outputId": "da5be50a-34d4-49d8-c3be-6212e907c909"
      },
      "outputs": [
        {
          "data": {
            "text/html": [
              "\n",
              "  <div id=\"df-22b71592-4f81-4cc5-bd6a-c63c91664cad\">\n",
              "    <div class=\"colab-df-container\">\n",
              "      <div>\n",
              "<style scoped>\n",
              "    .dataframe tbody tr th:only-of-type {\n",
              "        vertical-align: middle;\n",
              "    }\n",
              "\n",
              "    .dataframe tbody tr th {\n",
              "        vertical-align: top;\n",
              "    }\n",
              "\n",
              "    .dataframe thead th {\n",
              "        text-align: right;\n",
              "    }\n",
              "</style>\n",
              "<table border=\"1\" class=\"dataframe\">\n",
              "  <thead>\n",
              "    <tr style=\"text-align: right;\">\n",
              "      <th></th>\n",
              "      <th>relevance_score</th>\n",
              "      <th>qid</th>\n",
              "      <th>feature_1</th>\n",
              "      <th>feature_2</th>\n",
              "      <th>feature_3</th>\n",
              "      <th>feature_4</th>\n",
              "      <th>feature_5</th>\n",
              "      <th>feature_6</th>\n",
              "      <th>feature_7</th>\n",
              "      <th>feature_8</th>\n",
              "      <th>...</th>\n",
              "      <th>feature_127</th>\n",
              "      <th>feature_128</th>\n",
              "      <th>feature_129</th>\n",
              "      <th>feature_130</th>\n",
              "      <th>feature_131</th>\n",
              "      <th>feature_132</th>\n",
              "      <th>feature_133</th>\n",
              "      <th>feature_134</th>\n",
              "      <th>feature_135</th>\n",
              "      <th>feature_136</th>\n",
              "    </tr>\n",
              "  </thead>\n",
              "  <tbody>\n",
              "    <tr>\n",
              "      <th>0</th>\n",
              "      <td>3</td>\n",
              "      <td>qid:4</td>\n",
              "      <td>1:3</td>\n",
              "      <td>2:0</td>\n",
              "      <td>3:2</td>\n",
              "      <td>4:1</td>\n",
              "      <td>5:3</td>\n",
              "      <td>6:1</td>\n",
              "      <td>7:0</td>\n",
              "      <td>8:0.666667</td>\n",
              "      <td>...</td>\n",
              "      <td>127:32</td>\n",
              "      <td>128:349</td>\n",
              "      <td>129:8</td>\n",
              "      <td>130:123</td>\n",
              "      <td>131:281</td>\n",
              "      <td>132:22</td>\n",
              "      <td>133:6</td>\n",
              "      <td>134:0</td>\n",
              "      <td>135:0</td>\n",
              "      <td>136:0</td>\n",
              "    </tr>\n",
              "    <tr>\n",
              "      <th>1</th>\n",
              "      <td>2</td>\n",
              "      <td>qid:4</td>\n",
              "      <td>1:2</td>\n",
              "      <td>2:0</td>\n",
              "      <td>3:1</td>\n",
              "      <td>4:0</td>\n",
              "      <td>5:2</td>\n",
              "      <td>6:0.666667</td>\n",
              "      <td>7:0</td>\n",
              "      <td>8:0.333333</td>\n",
              "      <td>...</td>\n",
              "      <td>127:19</td>\n",
              "      <td>128:0</td>\n",
              "      <td>129:0</td>\n",
              "      <td>130:2417</td>\n",
              "      <td>131:721</td>\n",
              "      <td>132:14</td>\n",
              "      <td>133:113</td>\n",
              "      <td>134:0</td>\n",
              "      <td>135:13</td>\n",
              "      <td>136:47.9</td>\n",
              "    </tr>\n",
              "    <tr>\n",
              "      <th>2</th>\n",
              "      <td>2</td>\n",
              "      <td>qid:4</td>\n",
              "      <td>1:3</td>\n",
              "      <td>2:2</td>\n",
              "      <td>3:2</td>\n",
              "      <td>4:0</td>\n",
              "      <td>5:3</td>\n",
              "      <td>6:1</td>\n",
              "      <td>7:0.666667</td>\n",
              "      <td>8:0.666667</td>\n",
              "      <td>...</td>\n",
              "      <td>127:33</td>\n",
              "      <td>128:8</td>\n",
              "      <td>129:3</td>\n",
              "      <td>130:1888</td>\n",
              "      <td>131:9338</td>\n",
              "      <td>132:3</td>\n",
              "      <td>133:11</td>\n",
              "      <td>134:0</td>\n",
              "      <td>135:0</td>\n",
              "      <td>136:0</td>\n",
              "    </tr>\n",
              "    <tr>\n",
              "      <th>3</th>\n",
              "      <td>2</td>\n",
              "      <td>qid:4</td>\n",
              "      <td>1:3</td>\n",
              "      <td>2:0</td>\n",
              "      <td>3:2</td>\n",
              "      <td>4:0</td>\n",
              "      <td>5:3</td>\n",
              "      <td>6:1</td>\n",
              "      <td>7:0</td>\n",
              "      <td>8:0.666667</td>\n",
              "      <td>...</td>\n",
              "      <td>127:17</td>\n",
              "      <td>128:0</td>\n",
              "      <td>129:2</td>\n",
              "      <td>130:12028</td>\n",
              "      <td>131:11379</td>\n",
              "      <td>132:26</td>\n",
              "      <td>133:24</td>\n",
              "      <td>134:0</td>\n",
              "      <td>135:77</td>\n",
              "      <td>136:23.9595223404047</td>\n",
              "    </tr>\n",
              "    <tr>\n",
              "      <th>4</th>\n",
              "      <td>2</td>\n",
              "      <td>qid:4</td>\n",
              "      <td>1:3</td>\n",
              "      <td>2:0</td>\n",
              "      <td>3:3</td>\n",
              "      <td>4:3</td>\n",
              "      <td>5:3</td>\n",
              "      <td>6:1</td>\n",
              "      <td>7:0</td>\n",
              "      <td>8:1</td>\n",
              "      <td>...</td>\n",
              "      <td>127:67</td>\n",
              "      <td>128:27</td>\n",
              "      <td>129:0</td>\n",
              "      <td>130:814</td>\n",
              "      <td>131:13555</td>\n",
              "      <td>132:108</td>\n",
              "      <td>133:113</td>\n",
              "      <td>134:0</td>\n",
              "      <td>135:0</td>\n",
              "      <td>136:0</td>\n",
              "    </tr>\n",
              "  </tbody>\n",
              "</table>\n",
              "<p>5 rows × 138 columns</p>\n",
              "</div>\n",
              "      <button class=\"colab-df-convert\" onclick=\"convertToInteractive('df-22b71592-4f81-4cc5-bd6a-c63c91664cad')\"\n",
              "              title=\"Convert this dataframe to an interactive table.\"\n",
              "              style=\"display:none;\">\n",
              "        \n",
              "  <svg xmlns=\"http://www.w3.org/2000/svg\" height=\"24px\"viewBox=\"0 0 24 24\"\n",
              "       width=\"24px\">\n",
              "    <path d=\"M0 0h24v24H0V0z\" fill=\"none\"/>\n",
              "    <path d=\"M18.56 5.44l.94 2.06.94-2.06 2.06-.94-2.06-.94-.94-2.06-.94 2.06-2.06.94zm-11 1L8.5 8.5l.94-2.06 2.06-.94-2.06-.94L8.5 2.5l-.94 2.06-2.06.94zm10 10l.94 2.06.94-2.06 2.06-.94-2.06-.94-.94-2.06-.94 2.06-2.06.94z\"/><path d=\"M17.41 7.96l-1.37-1.37c-.4-.4-.92-.59-1.43-.59-.52 0-1.04.2-1.43.59L10.3 9.45l-7.72 7.72c-.78.78-.78 2.05 0 2.83L4 21.41c.39.39.9.59 1.41.59.51 0 1.02-.2 1.41-.59l7.78-7.78 2.81-2.81c.8-.78.8-2.07 0-2.86zM5.41 20L4 18.59l7.72-7.72 1.47 1.35L5.41 20z\"/>\n",
              "  </svg>\n",
              "      </button>\n",
              "      \n",
              "  <style>\n",
              "    .colab-df-container {\n",
              "      display:flex;\n",
              "      flex-wrap:wrap;\n",
              "      gap: 12px;\n",
              "    }\n",
              "\n",
              "    .colab-df-convert {\n",
              "      background-color: #E8F0FE;\n",
              "      border: none;\n",
              "      border-radius: 50%;\n",
              "      cursor: pointer;\n",
              "      display: none;\n",
              "      fill: #1967D2;\n",
              "      height: 32px;\n",
              "      padding: 0 0 0 0;\n",
              "      width: 32px;\n",
              "    }\n",
              "\n",
              "    .colab-df-convert:hover {\n",
              "      background-color: #E2EBFA;\n",
              "      box-shadow: 0px 1px 2px rgba(60, 64, 67, 0.3), 0px 1px 3px 1px rgba(60, 64, 67, 0.15);\n",
              "      fill: #174EA6;\n",
              "    }\n",
              "\n",
              "    [theme=dark] .colab-df-convert {\n",
              "      background-color: #3B4455;\n",
              "      fill: #D2E3FC;\n",
              "    }\n",
              "\n",
              "    [theme=dark] .colab-df-convert:hover {\n",
              "      background-color: #434B5C;\n",
              "      box-shadow: 0px 1px 3px 1px rgba(0, 0, 0, 0.15);\n",
              "      filter: drop-shadow(0px 1px 2px rgba(0, 0, 0, 0.3));\n",
              "      fill: #FFFFFF;\n",
              "    }\n",
              "  </style>\n",
              "\n",
              "      <script>\n",
              "        const buttonEl =\n",
              "          document.querySelector('#df-22b71592-4f81-4cc5-bd6a-c63c91664cad button.colab-df-convert');\n",
              "        buttonEl.style.display =\n",
              "          google.colab.kernel.accessAllowed ? 'block' : 'none';\n",
              "\n",
              "        async function convertToInteractive(key) {\n",
              "          const element = document.querySelector('#df-22b71592-4f81-4cc5-bd6a-c63c91664cad');\n",
              "          const dataTable =\n",
              "            await google.colab.kernel.invokeFunction('convertToInteractive',\n",
              "                                                     [key], {});\n",
              "          if (!dataTable) return;\n",
              "\n",
              "          const docLinkHtml = 'Like what you see? Visit the ' +\n",
              "            '<a target=\"_blank\" href=https://colab.research.google.com/notebooks/data_table.ipynb>data table notebook</a>'\n",
              "            + ' to learn more about interactive tables.';\n",
              "          element.innerHTML = '';\n",
              "          dataTable['output_type'] = 'display_data';\n",
              "          await google.colab.output.renderOutput(dataTable, element);\n",
              "          const docLink = document.createElement('div');\n",
              "          docLink.innerHTML = docLinkHtml;\n",
              "          element.appendChild(docLink);\n",
              "        }\n",
              "      </script>\n",
              "    </div>\n",
              "  </div>\n",
              "  "
            ],
            "text/plain": [
              "   relevance_score    qid feature_1 feature_2 feature_3 feature_4 feature_5  \\\n",
              "0                3  qid:4       1:3       2:0       3:2       4:1       5:3   \n",
              "1                2  qid:4       1:2       2:0       3:1       4:0       5:2   \n",
              "2                2  qid:4       1:3       2:2       3:2       4:0       5:3   \n",
              "3                2  qid:4       1:3       2:0       3:2       4:0       5:3   \n",
              "4                2  qid:4       1:3       2:0       3:3       4:3       5:3   \n",
              "\n",
              "    feature_6   feature_7   feature_8  ... feature_127 feature_128  \\\n",
              "0         6:1         7:0  8:0.666667  ...      127:32     128:349   \n",
              "1  6:0.666667         7:0  8:0.333333  ...      127:19       128:0   \n",
              "2         6:1  7:0.666667  8:0.666667  ...      127:33       128:8   \n",
              "3         6:1         7:0  8:0.666667  ...      127:17       128:0   \n",
              "4         6:1         7:0         8:1  ...      127:67      128:27   \n",
              "\n",
              "  feature_129 feature_130 feature_131 feature_132 feature_133 feature_134  \\\n",
              "0       129:8     130:123     131:281      132:22       133:6       134:0   \n",
              "1       129:0    130:2417     131:721      132:14     133:113       134:0   \n",
              "2       129:3    130:1888    131:9338       132:3      133:11       134:0   \n",
              "3       129:2   130:12028   131:11379      132:26      133:24       134:0   \n",
              "4       129:0     130:814   131:13555     132:108     133:113       134:0   \n",
              "\n",
              "  feature_135           feature_136  \n",
              "0       135:0                 136:0  \n",
              "1      135:13              136:47.9  \n",
              "2       135:0                 136:0  \n",
              "3      135:77  136:23.9595223404047  \n",
              "4       135:0                 136:0  \n",
              "\n",
              "[5 rows x 138 columns]"
            ]
          },
          "execution_count": 6,
          "metadata": {},
          "output_type": "execute_result"
        }
      ],
      "source": [
        "# sort the urls according to the maximum DCG (i.e. relevance_score)\n",
        "sorted_df = data.sort_values([\"relevance_score\"], ascending=False)\n",
        "sorted_df.reset_index(inplace=True, drop=True)\n",
        "sorted_df.head()"
      ]
    },
    {
      "cell_type": "code",
      "execution_count": 7,
      "metadata": {
        "id": "FQUn0s0pzbUv"
      },
      "outputs": [],
      "source": [
        "# saving the dataframe into a .txt file\n",
        "sorted_df.to_csv('filtered_max_dcg.txt', header=None, index=None, sep=' ', mode='a')"
      ]
    },
    {
      "cell_type": "markdown",
      "metadata": {
        "id": "X5Lob4fE0CHA"
      },
      "source": [
        "### **Task 1**: The number of files that could be made in order to maximize the DCG."
      ]
    },
    {
      "cell_type": "code",
      "execution_count": 8,
      "metadata": {
        "colab": {
          "base_uri": "https://localhost:8080/"
        },
        "id": "q-Jk_1ygz0UP",
        "outputId": "b373bcb2-f12d-40a6-dacb-f9d9ff5edda4"
      },
      "outputs": [
        {
          "data": {
            "text/plain": [
              "0    59\n",
              "1    26\n",
              "2    17\n",
              "3     1\n",
              "Name: relevance_score, dtype: int64"
            ]
          },
          "execution_count": 8,
          "metadata": {},
          "output_type": "execute_result"
        }
      ],
      "source": [
        "sorted_df['relevance_score'].value_counts()"
      ]
    },
    {
      "cell_type": "code",
      "execution_count": 4,
      "metadata": {
        "colab": {
          "base_uri": "https://localhost:8080/"
        },
        "id": "WhzI8emF0K_x",
        "outputId": "337cbf0b-2f85-40dc-d3e4-065c204a87b3"
      },
      "outputs": [
        {
          "data": {
            "text/plain": [
              "19893497375938370599826047614905329896936840170566570588205180312704857992695193482412686565431050240000000000000000000000"
            ]
          },
          "execution_count": 4,
          "metadata": {},
          "output_type": "execute_result"
        }
      ],
      "source": [
        "# from this we can see that, to get the maximum DCG we can rearrange each relevance_score class\n",
        "no_of_arrangements = math.factorial(1) * math.factorial(17) * math.factorial(26) * math.factorial(59)\n",
        "no_of_arrangements"
      ]
    },
    {
      "cell_type": "markdown",
      "metadata": {
        "id": "tp0EOiqu0pVY"
      },
      "source": [
        "### **Task 2**: compute the nDCG (normalized discounted cumulative gain) for the dataset. This involves calculating nDCG at position 50 and for the entire dataset."
      ]
    },
    {
      "cell_type": "code",
      "execution_count": 42,
      "metadata": {
        "id": "8w0CS2wUxw9-"
      },
      "outputs": [],
      "source": [
        "# method to calculate DCG\n",
        "def calculate_dcg(relevance_score):\n",
        "  dcg_at_i = relevance_score[0]\n",
        "  for i in range(1, len(relevance_score)):\n",
        "    relevance_at_i = relevance_score[i]\n",
        "    # dcg_at_i += (math.pow(2, relevance_at_i) - 1)/math.log2(i+2)\n",
        "    dcg_at_i += relevance_at_i/math.log2(i+1)\n",
        "\n",
        "  return dcg_at_i"
      ]
    },
    {
      "cell_type": "code",
      "execution_count": 43,
      "metadata": {
        "colab": {
          "base_uri": "https://localhost:8080/"
        },
        "id": "swcdedqD01Dy",
        "outputId": "fc205c98-4c0f-4981-de3b-77be0216e4ea"
      },
      "outputs": [
        {
          "name": "stdout",
          "output_type": "stream",
          "text": [
            "DCG for first 50 Query URL is: 7.390580969258021\n",
            "Ideal DCG for first 50 Query URL is: 14.067092644997018\n",
            "N-DCG for first 50 Query URL is: 0.5253808413557646\n"
          ]
        }
      ],
      "source": [
        "# calculating dcg for first 50 urls\n",
        "dcg = calculate_dcg(data['relevance_score'][:50])\n",
        "ideal_dcg = calculate_dcg(sorted(data['relevance_score'].values[:50],reverse=True))\n",
        "\n",
        "print(f'DCG for first 50 Query URL is: {dcg}')\n",
        "print(f'Ideal DCG for first 50 Query URL is: {ideal_dcg}')\n",
        "print(f'N-DCG for first 50 Query URL is: {dcg/ideal_dcg}')"
      ]
    },
    {
      "cell_type": "markdown",
      "metadata": {
        "id": "kqEEAsrm1MOk"
      },
      "source": [
        "here, if I'm taking log2(i+1), then I'm getting divide_by_zero error, that is why I'm taking log2(i+2) in the denominator."
      ]
    },
    {
      "cell_type": "code",
      "execution_count": 44,
      "metadata": {
        "colab": {
          "base_uri": "https://localhost:8080/"
        },
        "id": "vInoq-Th1Ln6",
        "outputId": "e8a9cf88-9982-4a9e-82fc-54962118080d"
      },
      "outputs": [
        {
          "name": "stdout",
          "output_type": "stream",
          "text": [
            "DCG for whole Query URL is: 12.550247459532576\n",
            "Ideal DCG for whole Query URL is: 20.989750804831445\n",
            "N-DCG for whole Query URL is: 0.5979226516897831\n"
          ]
        }
      ],
      "source": [
        "# calculating dcg for whole urls\n",
        "dcg = calculate_dcg(data['relevance_score'])\n",
        "ideal_dcg = calculate_dcg(sorted(data['relevance_score'].values,reverse=True))\n",
        "\n",
        "print(f'DCG for whole Query URL is: {dcg}')\n",
        "print(f'Ideal DCG for whole Query URL is: {ideal_dcg}')\n",
        "print(f'N-DCG for whole Query URL is: {dcg/ideal_dcg}')"
      ]
    },
    {
      "cell_type": "markdown",
      "metadata": {
        "id": "JVFhbPae1vzU"
      },
      "source": [
        "### **Task 3**: plot a Precision-Recall curve for the query \"qid:4\"."
      ]
    },
    {
      "cell_type": "code",
      "execution_count": null,
      "metadata": {
        "id": "moScth73x-IL"
      },
      "outputs": [],
      "source": [
        "# # objective 3\n",
        "# def get_tf_idf_dict(data):\n",
        "#   tf_idf_map = {}\n",
        "#   for i, row in data.iterrows():\n",
        "#     tf_idf_map[i] = float(row['feature_75'][3:])\n",
        "\n",
        "#   return tf_idf_map"
      ]
    },
    {
      "cell_type": "code",
      "execution_count": null,
      "metadata": {
        "id": "9IzRjdF7yGac"
      },
      "outputs": [],
      "source": [
        "# tf_idf_map = dict(sorted(get_tf_idf_dict(data).items(), key = lambda x: (x[1], x[0]), reverse=True))\n",
        "# tf_idf_map"
      ]
    },
    {
      "cell_type": "code",
      "execution_count": null,
      "metadata": {
        "colab": {
          "base_uri": "https://localhost:8080/"
        },
        "id": "wnatdWz12-oD",
        "outputId": "5f70663d-b064-4d06-bb93-b19357e04287"
      },
      "outputs": [
        {
          "data": {
            "text/plain": [
              "162.65848870873782"
            ]
          },
          "execution_count": 39,
          "metadata": {},
          "output_type": "execute_result"
        }
      ],
      "source": [
        "# I'm taking the average value of feature_75 as the threshold for finding precision and recall\n",
        "# threshold = sum(tf_idf_map.values())/len(tf_idf_map)\n",
        "# threshold"
      ]
    },
    {
      "cell_type": "code",
      "execution_count": 50,
      "metadata": {
        "id": "wjgtv8CgB_lR"
      },
      "outputs": [],
      "source": [
        "# update feature 75 column\n",
        "data['feature_75'] = data['feature_75'].apply(lambda x: float(x.split(':')[1]))"
      ]
    },
    {
      "cell_type": "code",
      "execution_count": 51,
      "metadata": {
        "colab": {
          "base_uri": "https://localhost:8080/",
          "height": 300
        },
        "id": "0QrnvvsmAtcH",
        "outputId": "8d0800d0-1546-4b9f-8ebe-94ac5dee9321"
      },
      "outputs": [
        {
          "data": {
            "text/html": [
              "\n",
              "  <div id=\"df-d9850872-ce80-4a7e-986c-759e4a701aec\">\n",
              "    <div class=\"colab-df-container\">\n",
              "      <div>\n",
              "<style scoped>\n",
              "    .dataframe tbody tr th:only-of-type {\n",
              "        vertical-align: middle;\n",
              "    }\n",
              "\n",
              "    .dataframe tbody tr th {\n",
              "        vertical-align: top;\n",
              "    }\n",
              "\n",
              "    .dataframe thead th {\n",
              "        text-align: right;\n",
              "    }\n",
              "</style>\n",
              "<table border=\"1\" class=\"dataframe\">\n",
              "  <thead>\n",
              "    <tr style=\"text-align: right;\">\n",
              "      <th></th>\n",
              "      <th>relevance_score</th>\n",
              "      <th>qid</th>\n",
              "      <th>feature_1</th>\n",
              "      <th>feature_2</th>\n",
              "      <th>feature_3</th>\n",
              "      <th>feature_4</th>\n",
              "      <th>feature_5</th>\n",
              "      <th>feature_6</th>\n",
              "      <th>feature_7</th>\n",
              "      <th>feature_8</th>\n",
              "      <th>...</th>\n",
              "      <th>feature_127</th>\n",
              "      <th>feature_128</th>\n",
              "      <th>feature_129</th>\n",
              "      <th>feature_130</th>\n",
              "      <th>feature_131</th>\n",
              "      <th>feature_132</th>\n",
              "      <th>feature_133</th>\n",
              "      <th>feature_134</th>\n",
              "      <th>feature_135</th>\n",
              "      <th>feature_136</th>\n",
              "    </tr>\n",
              "  </thead>\n",
              "  <tbody>\n",
              "    <tr>\n",
              "      <th>0</th>\n",
              "      <td>0</td>\n",
              "      <td>qid:4</td>\n",
              "      <td>1:3</td>\n",
              "      <td>2:0</td>\n",
              "      <td>3:3</td>\n",
              "      <td>4:0</td>\n",
              "      <td>5:3</td>\n",
              "      <td>6:1</td>\n",
              "      <td>7:0</td>\n",
              "      <td>8:1</td>\n",
              "      <td>...</td>\n",
              "      <td>127:51</td>\n",
              "      <td>128:766</td>\n",
              "      <td>129:0</td>\n",
              "      <td>130:119</td>\n",
              "      <td>131:32560</td>\n",
              "      <td>132:45</td>\n",
              "      <td>133:24</td>\n",
              "      <td>134:0</td>\n",
              "      <td>135:0</td>\n",
              "      <td>136:0</td>\n",
              "    </tr>\n",
              "    <tr>\n",
              "      <th>1</th>\n",
              "      <td>0</td>\n",
              "      <td>qid:4</td>\n",
              "      <td>1:3</td>\n",
              "      <td>2:0</td>\n",
              "      <td>3:3</td>\n",
              "      <td>4:2</td>\n",
              "      <td>5:3</td>\n",
              "      <td>6:1</td>\n",
              "      <td>7:0</td>\n",
              "      <td>8:1</td>\n",
              "      <td>...</td>\n",
              "      <td>127:61</td>\n",
              "      <td>128:0</td>\n",
              "      <td>129:9</td>\n",
              "      <td>130:120</td>\n",
              "      <td>131:392</td>\n",
              "      <td>132:162</td>\n",
              "      <td>133:169</td>\n",
              "      <td>134:0</td>\n",
              "      <td>135:0</td>\n",
              "      <td>136:0</td>\n",
              "    </tr>\n",
              "    <tr>\n",
              "      <th>2</th>\n",
              "      <td>0</td>\n",
              "      <td>qid:4</td>\n",
              "      <td>1:3</td>\n",
              "      <td>2:1</td>\n",
              "      <td>3:3</td>\n",
              "      <td>4:1</td>\n",
              "      <td>5:3</td>\n",
              "      <td>6:1</td>\n",
              "      <td>7:0.333333</td>\n",
              "      <td>8:1</td>\n",
              "      <td>...</td>\n",
              "      <td>127:48</td>\n",
              "      <td>128:189</td>\n",
              "      <td>129:8</td>\n",
              "      <td>130:549</td>\n",
              "      <td>131:2650</td>\n",
              "      <td>132:91</td>\n",
              "      <td>133:114</td>\n",
              "      <td>134:0</td>\n",
              "      <td>135:0</td>\n",
              "      <td>136:0</td>\n",
              "    </tr>\n",
              "    <tr>\n",
              "      <th>3</th>\n",
              "      <td>0</td>\n",
              "      <td>qid:4</td>\n",
              "      <td>1:3</td>\n",
              "      <td>2:0</td>\n",
              "      <td>3:3</td>\n",
              "      <td>4:0</td>\n",
              "      <td>5:3</td>\n",
              "      <td>6:1</td>\n",
              "      <td>7:0</td>\n",
              "      <td>8:1</td>\n",
              "      <td>...</td>\n",
              "      <td>127:61</td>\n",
              "      <td>128:0</td>\n",
              "      <td>129:8</td>\n",
              "      <td>130:122</td>\n",
              "      <td>131:508</td>\n",
              "      <td>132:131</td>\n",
              "      <td>133:136</td>\n",
              "      <td>134:0</td>\n",
              "      <td>135:0</td>\n",
              "      <td>136:0</td>\n",
              "    </tr>\n",
              "    <tr>\n",
              "      <th>4</th>\n",
              "      <td>1</td>\n",
              "      <td>qid:4</td>\n",
              "      <td>1:2</td>\n",
              "      <td>2:0</td>\n",
              "      <td>3:2</td>\n",
              "      <td>4:0</td>\n",
              "      <td>5:2</td>\n",
              "      <td>6:0.666667</td>\n",
              "      <td>7:0</td>\n",
              "      <td>8:0.666667</td>\n",
              "      <td>...</td>\n",
              "      <td>127:23</td>\n",
              "      <td>128:0</td>\n",
              "      <td>129:1</td>\n",
              "      <td>130:42877</td>\n",
              "      <td>131:26562</td>\n",
              "      <td>132:12</td>\n",
              "      <td>133:24</td>\n",
              "      <td>134:0</td>\n",
              "      <td>135:56</td>\n",
              "      <td>136:62.9206042323688</td>\n",
              "    </tr>\n",
              "  </tbody>\n",
              "</table>\n",
              "<p>5 rows × 138 columns</p>\n",
              "</div>\n",
              "      <button class=\"colab-df-convert\" onclick=\"convertToInteractive('df-d9850872-ce80-4a7e-986c-759e4a701aec')\"\n",
              "              title=\"Convert this dataframe to an interactive table.\"\n",
              "              style=\"display:none;\">\n",
              "        \n",
              "  <svg xmlns=\"http://www.w3.org/2000/svg\" height=\"24px\"viewBox=\"0 0 24 24\"\n",
              "       width=\"24px\">\n",
              "    <path d=\"M0 0h24v24H0V0z\" fill=\"none\"/>\n",
              "    <path d=\"M18.56 5.44l.94 2.06.94-2.06 2.06-.94-2.06-.94-.94-2.06-.94 2.06-2.06.94zm-11 1L8.5 8.5l.94-2.06 2.06-.94-2.06-.94L8.5 2.5l-.94 2.06-2.06.94zm10 10l.94 2.06.94-2.06 2.06-.94-2.06-.94-.94-2.06-.94 2.06-2.06.94z\"/><path d=\"M17.41 7.96l-1.37-1.37c-.4-.4-.92-.59-1.43-.59-.52 0-1.04.2-1.43.59L10.3 9.45l-7.72 7.72c-.78.78-.78 2.05 0 2.83L4 21.41c.39.39.9.59 1.41.59.51 0 1.02-.2 1.41-.59l7.78-7.78 2.81-2.81c.8-.78.8-2.07 0-2.86zM5.41 20L4 18.59l7.72-7.72 1.47 1.35L5.41 20z\"/>\n",
              "  </svg>\n",
              "      </button>\n",
              "      \n",
              "  <style>\n",
              "    .colab-df-container {\n",
              "      display:flex;\n",
              "      flex-wrap:wrap;\n",
              "      gap: 12px;\n",
              "    }\n",
              "\n",
              "    .colab-df-convert {\n",
              "      background-color: #E8F0FE;\n",
              "      border: none;\n",
              "      border-radius: 50%;\n",
              "      cursor: pointer;\n",
              "      display: none;\n",
              "      fill: #1967D2;\n",
              "      height: 32px;\n",
              "      padding: 0 0 0 0;\n",
              "      width: 32px;\n",
              "    }\n",
              "\n",
              "    .colab-df-convert:hover {\n",
              "      background-color: #E2EBFA;\n",
              "      box-shadow: 0px 1px 2px rgba(60, 64, 67, 0.3), 0px 1px 3px 1px rgba(60, 64, 67, 0.15);\n",
              "      fill: #174EA6;\n",
              "    }\n",
              "\n",
              "    [theme=dark] .colab-df-convert {\n",
              "      background-color: #3B4455;\n",
              "      fill: #D2E3FC;\n",
              "    }\n",
              "\n",
              "    [theme=dark] .colab-df-convert:hover {\n",
              "      background-color: #434B5C;\n",
              "      box-shadow: 0px 1px 3px 1px rgba(0, 0, 0, 0.15);\n",
              "      filter: drop-shadow(0px 1px 2px rgba(0, 0, 0, 0.3));\n",
              "      fill: #FFFFFF;\n",
              "    }\n",
              "  </style>\n",
              "\n",
              "      <script>\n",
              "        const buttonEl =\n",
              "          document.querySelector('#df-d9850872-ce80-4a7e-986c-759e4a701aec button.colab-df-convert');\n",
              "        buttonEl.style.display =\n",
              "          google.colab.kernel.accessAllowed ? 'block' : 'none';\n",
              "\n",
              "        async function convertToInteractive(key) {\n",
              "          const element = document.querySelector('#df-d9850872-ce80-4a7e-986c-759e4a701aec');\n",
              "          const dataTable =\n",
              "            await google.colab.kernel.invokeFunction('convertToInteractive',\n",
              "                                                     [key], {});\n",
              "          if (!dataTable) return;\n",
              "\n",
              "          const docLinkHtml = 'Like what you see? Visit the ' +\n",
              "            '<a target=\"_blank\" href=https://colab.research.google.com/notebooks/data_table.ipynb>data table notebook</a>'\n",
              "            + ' to learn more about interactive tables.';\n",
              "          element.innerHTML = '';\n",
              "          dataTable['output_type'] = 'display_data';\n",
              "          await google.colab.output.renderOutput(dataTable, element);\n",
              "          const docLink = document.createElement('div');\n",
              "          docLink.innerHTML = docLinkHtml;\n",
              "          element.appendChild(docLink);\n",
              "        }\n",
              "      </script>\n",
              "    </div>\n",
              "  </div>\n",
              "  "
            ],
            "text/plain": [
              "   relevance_score    qid feature_1 feature_2 feature_3 feature_4 feature_5  \\\n",
              "0                0  qid:4       1:3       2:0       3:3       4:0       5:3   \n",
              "1                0  qid:4       1:3       2:0       3:3       4:2       5:3   \n",
              "2                0  qid:4       1:3       2:1       3:3       4:1       5:3   \n",
              "3                0  qid:4       1:3       2:0       3:3       4:0       5:3   \n",
              "4                1  qid:4       1:2       2:0       3:2       4:0       5:2   \n",
              "\n",
              "    feature_6   feature_7   feature_8  ... feature_127 feature_128  \\\n",
              "0         6:1         7:0         8:1  ...      127:51     128:766   \n",
              "1         6:1         7:0         8:1  ...      127:61       128:0   \n",
              "2         6:1  7:0.333333         8:1  ...      127:48     128:189   \n",
              "3         6:1         7:0         8:1  ...      127:61       128:0   \n",
              "4  6:0.666667         7:0  8:0.666667  ...      127:23       128:0   \n",
              "\n",
              "  feature_129 feature_130 feature_131 feature_132 feature_133 feature_134  \\\n",
              "0       129:0     130:119   131:32560      132:45      133:24       134:0   \n",
              "1       129:9     130:120     131:392     132:162     133:169       134:0   \n",
              "2       129:8     130:549    131:2650      132:91     133:114       134:0   \n",
              "3       129:8     130:122     131:508     132:131     133:136       134:0   \n",
              "4       129:1   130:42877   131:26562      132:12      133:24       134:0   \n",
              "\n",
              "  feature_135           feature_136  \n",
              "0       135:0                 136:0  \n",
              "1       135:0                 136:0  \n",
              "2       135:0                 136:0  \n",
              "3       135:0                 136:0  \n",
              "4      135:56  136:62.9206042323688  \n",
              "\n",
              "[5 rows x 138 columns]"
            ]
          },
          "execution_count": 51,
          "metadata": {},
          "output_type": "execute_result"
        }
      ],
      "source": [
        "# sort the dataframe based on feature_75\n",
        "sorted_data_feature75 = data.sort_values([\"feature_75\"], ascending=False)\n",
        "sorted_data_feature75.reset_index(inplace=True, drop=True)\n",
        "sorted_data_feature75.head()"
      ]
    },
    {
      "cell_type": "code",
      "execution_count": 57,
      "metadata": {
        "id": "MIbbkIp63rEo"
      },
      "outputs": [],
      "source": [
        "def calculate_precision(data):\n",
        "  precision_list = []\n",
        "\n",
        "  for i in range(1, len(data)+1):\n",
        "    temp = data['relevance_score'][:i]\n",
        "    non_relevant_docs = Counter(list(temp))[0]\n",
        "    relevant_docs = i - non_relevant_docs\n",
        "    temp_precision = relevant_docs / i\n",
        "    precision_list.append(temp_precision)\n",
        "\n",
        "  return precision_list\n",
        "\n",
        "def calculate_recall(data):\n",
        "  recall_list = []\n",
        "\n",
        "  for i in range(1, len(data)+1):\n",
        "    temp = data['relevance_score'][:i]\n",
        "    non_relevant_docs = Counter(list(data['relevance_score']))[0]\n",
        "    relevant_docs = len(data) - non_relevant_docs\n",
        "    retrieved_docs = i - Counter(list(temp))[0]\n",
        "    temp_recall = retrieved_docs / relevant_docs\n",
        "    recall_list.append(temp_recall)\n",
        "\n",
        "  return recall_list"
      ]
    },
    {
      "cell_type": "code",
      "execution_count": 58,
      "metadata": {
        "id": "fc5QP_bQ4c39"
      },
      "outputs": [],
      "source": [
        "precision_list = calculate_precision(sorted_data_feature75)\n",
        "recall_list = calculate_recall(sorted_data_feature75)"
      ]
    },
    {
      "cell_type": "code",
      "execution_count": 59,
      "metadata": {
        "colab": {
          "base_uri": "https://localhost:8080/",
          "height": 295
        },
        "id": "vfI8gxOM4l0r",
        "outputId": "3d488194-cd85-4643-a3ab-081a4b7590bd"
      },
      "outputs": [
        {
          "data": {
            "image/png": "[encoded data removed]",
            "text/plain": [
              "<Figure size 432x288 with 1 Axes>"
            ]
          },
          "metadata": {
            "needs_background": "light"
          },
          "output_type": "display_data"
        }
      ],
      "source": [
        "import matplotlib.pyplot as plt\n",
        "\n",
        "plt.plot(recall_list, precision_list)\n",
        "plt.xlabel('Recall')\n",
        "plt.ylabel('Precision')\n",
        "plt.title('Precision Vs Recall')\n",
        "plt.grid()\n",
        "plt.show()"
      ]
    }
  ],
  "metadata": {
    "colab": {
      "collapsed_sections": [
        "tp0EOiqu0pVY",
        "JVFhbPae1vzU"
      ],
      "provenance": []
    },
    "kernelspec": {
      "display_name": "Python 3",
      "name": "python3"
    },
    "language_info": {
      "codemirror_mode": {
        "name": "ipython",
        "version": 3
      },
      "file_extension": ".py",
      "mimetype": "text/x-python",
      "name": "python",
      "nbconvert_exporter": "python",
      "pygments_lexer": "ipython3",
      "version": "3.9.13"
    }
  },
  "nbformat": 4,
  "nbformat_minor": 0
}
